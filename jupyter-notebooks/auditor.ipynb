{
 "cells": [
  {
   "attachments": {},
   "cell_type": "markdown",
   "metadata": {},
   "source": [
    "# `auditor` - diagnostyka modeli uczenia maszynowego\n",
    "### Alicja Gosiewska\n",
    "\n",
    "* Repozytorium zawierające pakiet `auditor`:\n",
    "https://github.com/MI2DataLab/auditor\n",
    "\n",
    "* Preprint artykułu na arxiv:\n",
    "https://arxiv.org/abs/1809.07763"
   ]
  },
  {
   "cell_type": "markdown",
   "metadata": {},
   "source": [
    "![](https://github.com/agosiewska/examples/blob/master/Przechwytywanie2.PNG?raw=true)"
   ]
  },
  {
   "cell_type": "code",
   "execution_count": null,
   "metadata": {},
   "outputs": [],
   "source": [
    "library(auditor)\n",
    "library(randomForest)\n",
    "library(e1071)"
   ]
  },
  {
   "cell_type": "code",
   "execution_count": null,
   "metadata": {},
   "outputs": [],
   "source": [
    "lm.SR <- lm(sr ~ pop15 + pop75 + dpi + ddpi, data = LifeCycleSavings)\n",
    "par(mfrow = c(2,3))\n",
    "plot(lm.SR, ask = FALSE, which =1:6)"
   ]
  },
  {
   "cell_type": "markdown",
   "metadata": {},
   "source": [
    "![](https://github.com/agosiewska/examples/blob/master/Przechwytywanie.PNG?raw=true)"
   ]
  },
  {
   "cell_type": "code",
   "execution_count": null,
   "metadata": {},
   "outputs": [],
   "source": [
    "model_rf <- randomForest(y~., auditorData) "
   ]
  },
  {
   "cell_type": "code",
   "execution_count": null,
   "metadata": {},
   "outputs": [],
   "source": [
    "au_rf <- audit(model_rf, data = auditorData, y = auditorData$y, label = \"rf\")"
   ]
  },
  {
   "cell_type": "code",
   "execution_count": null,
   "metadata": {},
   "outputs": [],
   "source": [
    "mp_rf <- modelResiduals(au_rf)\n",
    "plot(mp_rf, type =\"ResidualDensity\")"
   ]
  },
  {
   "cell_type": "code",
   "execution_count": null,
   "metadata": {},
   "outputs": [],
   "source": [
    "head(mp_rf)"
   ]
  },
  {
   "cell_type": "code",
   "execution_count": null,
   "metadata": {},
   "outputs": [],
   "source": [
    "plot(au_rf, type = \"ResidualDensity\")"
   ]
  },
  {
   "cell_type": "markdown",
   "metadata": {},
   "source": [
    "# Porównanie trzech modeli"
   ]
  },
  {
   "cell_type": "code",
   "execution_count": null,
   "metadata": {},
   "outputs": [],
   "source": [
    "model_rf <- randomForest(y~., auditorData) \n",
    "model_svm <- svm(y~., auditorData) \n",
    "model_lm <- lm(y~., auditorData) "
   ]
  },
  {
   "cell_type": "code",
   "execution_count": null,
   "metadata": {},
   "outputs": [],
   "source": [
    "au_rf <- audit(model_rf, data = auditorData, y = auditorData$y, label = \"rf\")\n",
    "au_svm <- audit(model_svm, data = auditorData, y = auditorData$y, label = \"svm\")\n",
    "au_lm <- audit(model_lm, data = auditorData, y = auditorData$y, label = \"lm\")"
   ]
  },
  {
   "cell_type": "code",
   "execution_count": null,
   "metadata": {},
   "outputs": [],
   "source": [
    "plot(au_rf, au_svm, au_lm, type = \"ModelRanking\")"
   ]
  },
  {
   "cell_type": "code",
   "execution_count": null,
   "metadata": {},
   "outputs": [],
   "source": [
    "plot(au_rf, au_svm, au_lm, type = c(\"ModelRanking\", \"Prediction\"), variable = \"y\")"
   ]
  },
  {
   "cell_type": "code",
   "execution_count": null,
   "metadata": {},
   "outputs": [],
   "source": [
    "plot(au_rf, au_svm, au_lm, type = \"Residual\", variable = \"y\")"
   ]
  },
  {
   "cell_type": "markdown",
   "metadata": {},
   "source": [
    "# Usunięcie obserwacji odstających"
   ]
  },
  {
   "cell_type": "code",
   "execution_count": null,
   "metadata": {},
   "outputs": [],
   "source": []
  }
 ],
 "metadata": {
  "kernelspec": {
   "display_name": "R",
   "language": "R",
   "name": "ir"
  },
  "language_info": {
   "codemirror_mode": "r",
   "file_extension": ".r",
   "mimetype": "text/x-r-source",
   "name": "R",
   "pygments_lexer": "r",
   "version": "3.4.4"
  }
 },
 "nbformat": 4,
 "nbformat_minor": 2
}
